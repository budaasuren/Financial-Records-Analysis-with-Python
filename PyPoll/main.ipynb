{
 "cells": [
  {
   "cell_type": "code",
   "execution_count": 12,
   "id": "8a17dab9",
   "metadata": {},
   "outputs": [],
   "source": [
    "import csv\n",
    "import pandas as pd\n",
    "import os"
   ]
  },
  {
   "cell_type": "code",
   "execution_count": 13,
   "id": "53802f2d",
   "metadata": {},
   "outputs": [],
   "source": [
    "election_data=\"Resources/election_data.csv\""
   ]
  },
  {
   "cell_type": "code",
   "execution_count": 14,
   "id": "a4a51445",
   "metadata": {},
   "outputs": [],
   "source": [
    "election_data_df=pd.read_csv(election_data)\n",
    "\n",
    "#election_data_df.head(3)"
   ]
  },
  {
   "cell_type": "code",
   "execution_count": 15,
   "id": "d756c86b",
   "metadata": {},
   "outputs": [
    {
     "name": "stdout",
     "output_type": "stream",
     "text": [
      "Total votes : 369711\n"
     ]
    }
   ],
   "source": [
    "total_votes=election_data_df['Ballot ID'].count()\n",
    "\n",
    "print(f\"Total votes : {total_votes}\")\n",
    "    "
   ]
  },
  {
   "cell_type": "code",
   "execution_count": 16,
   "id": "943e1cfb",
   "metadata": {},
   "outputs": [
    {
     "name": "stdout",
     "output_type": "stream",
     "text": [
      "['Charles Casper Stockham' 'Diana DeGette' 'Raymon Anthony Doane']\n"
     ]
    }
   ],
   "source": [
    "candidate_name_list= election_data_df['Candidate'].unique()\n",
    "print(candidate_name_list)"
   ]
  },
  {
   "cell_type": "code",
   "execution_count": 17,
   "id": "300efd36",
   "metadata": {},
   "outputs": [
    {
     "name": "stdout",
     "output_type": "stream",
     "text": [
      "Diana DeGette              272892\n",
      "Charles Casper Stockham     85213\n",
      "Raymon Anthony Doane        11606\n",
      "Name: Candidate, dtype: int64\n"
     ]
    }
   ],
   "source": [
    "vote_count=election_data_df['Candidate'].value_counts()\n",
    "print(vote_count)"
   ]
  },
  {
   "cell_type": "code",
   "execution_count": 18,
   "id": "5b70ac7f",
   "metadata": {},
   "outputs": [],
   "source": [
    "vote_summary_df=pd.DataFrame({'Candidate_name': ['Diana DeGette', 'Charles Casper Stockham','Raymon Anthony Doane'],\n",
    "                              'Vote_count' : [272892, 85213, 11606]})"
   ]
  },
  {
   "cell_type": "code",
   "execution_count": 19,
   "id": "0ec15ee6",
   "metadata": {},
   "outputs": [
    {
     "data": {
      "text/html": [
       "<div>\n",
       "<style scoped>\n",
       "    .dataframe tbody tr th:only-of-type {\n",
       "        vertical-align: middle;\n",
       "    }\n",
       "\n",
       "    .dataframe tbody tr th {\n",
       "        vertical-align: top;\n",
       "    }\n",
       "\n",
       "    .dataframe thead th {\n",
       "        text-align: right;\n",
       "    }\n",
       "</style>\n",
       "<table border=\"1\" class=\"dataframe\">\n",
       "  <thead>\n",
       "    <tr style=\"text-align: right;\">\n",
       "      <th></th>\n",
       "      <th>Candidate_name</th>\n",
       "      <th>Vote_count</th>\n",
       "      <th>Percentage</th>\n",
       "    </tr>\n",
       "  </thead>\n",
       "  <tbody>\n",
       "    <tr>\n",
       "      <th>0</th>\n",
       "      <td>Diana DeGette</td>\n",
       "      <td>272892</td>\n",
       "      <td>73.812</td>\n",
       "    </tr>\n",
       "    <tr>\n",
       "      <th>1</th>\n",
       "      <td>Charles Casper Stockham</td>\n",
       "      <td>85213</td>\n",
       "      <td>23.049</td>\n",
       "    </tr>\n",
       "    <tr>\n",
       "      <th>2</th>\n",
       "      <td>Raymon Anthony Doane</td>\n",
       "      <td>11606</td>\n",
       "      <td>3.139</td>\n",
       "    </tr>\n",
       "  </tbody>\n",
       "</table>\n",
       "</div>"
      ],
      "text/plain": [
       "            Candidate_name  Vote_count  Percentage\n",
       "0            Diana DeGette      272892      73.812\n",
       "1  Charles Casper Stockham       85213      23.049\n",
       "2     Raymon Anthony Doane       11606       3.139"
      ]
     },
     "execution_count": 19,
     "metadata": {},
     "output_type": "execute_result"
    }
   ],
   "source": [
    "vote_summary_df['Percentage']=round(vote_summary_df['Vote_count']/total_votes*100,3)\n",
    "\n",
    "vote_summary_df\n"
   ]
  },
  {
   "cell_type": "code",
   "execution_count": 20,
   "id": "8b97abe7",
   "metadata": {},
   "outputs": [
    {
     "data": {
      "text/plain": [
       "0"
      ]
     },
     "execution_count": 20,
     "metadata": {},
     "output_type": "execute_result"
    }
   ],
   "source": [
    "vote_summary_df['Vote_count'].idxmax()"
   ]
  },
  {
   "cell_type": "code",
   "execution_count": 21,
   "id": "d83de993",
   "metadata": {},
   "outputs": [
    {
     "name": "stdout",
     "output_type": "stream",
     "text": [
      "Diana DeGette\n"
     ]
    }
   ],
   "source": [
    "winner= vote_summary_df['Candidate_name'][0]\n",
    "print(winner)"
   ]
  },
  {
   "cell_type": "code",
   "execution_count": 22,
   "id": "c2221f82",
   "metadata": {},
   "outputs": [
    {
     "name": "stdout",
     "output_type": "stream",
     "text": [
      "Election Results\n",
      "--------------------\n",
      "Total votes : 369711\n",
      "--------------------\n",
      "Diana DeGette : 272892 (73.812 %)\n",
      "Charles Casper Stockham : 85213 (23.049 %)\n",
      "Raymon Anthony Doane : 11606 (3.139 %)\n",
      "--------------------\n",
      "Winner : Diana DeGette\n"
     ]
    }
   ],
   "source": [
    "print(\"Election Results\")\n",
    "print(\"--------------------\")\n",
    "print(f\"Total votes : {total_votes}\")\n",
    "print(\"--------------------\")\n",
    "print(f\"{vote_summary_df['Candidate_name'][0]} : {vote_summary_df['Vote_count'][0]} ({vote_summary_df['Percentage'][0]} %)\" )\n",
    "print(f\"{vote_summary_df['Candidate_name'][1]} : {vote_summary_df['Vote_count'][1]} ({vote_summary_df['Percentage'][1]} %)\" )\n",
    "print(f\"{vote_summary_df['Candidate_name'][2]} : {vote_summary_df['Vote_count'][2]} ({vote_summary_df['Percentage'][2]} %)\" )\n",
    "print(\"--------------------\")\n",
    "print(f\"Winner : {winner}\")\n"
   ]
  },
  {
   "cell_type": "code",
   "execution_count": 47,
   "id": "cb1d1b36",
   "metadata": {},
   "outputs": [],
   "source": [
    "output_path =os.path.join(\"Election_Data_Output\" , \"Election_Summary.txt\")\n",
    "\n",
    "with open(output_path, \"w\") as resultwriter:\n",
    "    csvwriter=csv.writer(resultwriter, delimiter= \",\")\n",
    "    csvwriter.writerows(  [ ['Election Results'], \n",
    "                           ['--------------------'],\n",
    "                           [ f\"Total votes : {total_votes}\" ],\n",
    "                           [ f\"{vote_summary_df['Candidate_name'][0]} : {vote_summary_df['Vote_count'][0]} ({vote_summary_df['Percentage'][0]} %)\" ],\n",
    "                           [ f\"{vote_summary_df['Candidate_name'][1]} : {vote_summary_df['Vote_count'][1]} ({vote_summary_df['Percentage'][1]} %)\" ], \n",
    "                           [ f\"{vote_summary_df['Candidate_name'][2]} : {vote_summary_df['Vote_count'][2]} ({vote_summary_df['Percentage'][2]} %)\" ] ] )"
   ]
  },
  {
   "cell_type": "code",
   "execution_count": null,
   "id": "44b0302a",
   "metadata": {},
   "outputs": [],
   "source": []
  }
 ],
 "metadata": {
  "kernelspec": {
   "display_name": "Python 3 (ipykernel)",
   "language": "python",
   "name": "python3"
  },
  "language_info": {
   "codemirror_mode": {
    "name": "ipython",
    "version": 3
   },
   "file_extension": ".py",
   "mimetype": "text/x-python",
   "name": "python",
   "nbconvert_exporter": "python",
   "pygments_lexer": "ipython3",
   "version": "3.9.12"
  }
 },
 "nbformat": 4,
 "nbformat_minor": 5
}
